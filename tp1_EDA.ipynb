{
 "cells": [
  {
   "cell_type": "markdown",
   "id": "6f451671",
   "metadata": {},
   "source": [
    "# Trabajo Práctico 1: Análisis Exploratorio de Datos\n",
    "\n",
    "## 1. Listado de variables y selección\n",
    "Se eligió aplicar el análisis exploratorio de datos sobre un conjunto de datos de los accidentes de tráfico ocurridos en la ciudad de Addis Ababa, Etiopía entre los años 2017 y 2020.\n",
    "\n"
   ]
  },
  {
   "cell_type": "markdown",
   "id": "ca9ce5df",
   "metadata": {},
   "source": [
    "####  Variables\n",
    "\n",
    "* Age_band_of_driver: Rango etario del conductor **(entrada)**\n",
    "* Sex_of_driver: Sexo del conductor **(entrada)**\n",
    "* Educational_level: Nivel académico del conductor\n",
    "* Vehicle_driver_relation: Pertenencia entre conductor y vehiculo\n",
    "* Driving_experience: Años de experiencia del conductor **(entrada)**\n",
    "* Lanes_or_Medians: Tipo de separación entre carriles **(entrada)**\n",
    "* Types_of_Junction: Tipo de intersección **(entrada)**\n",
    "* Road_surface_type: Tipo de superficie de la ruta **(entrada)**\n",
    "* Light_conditions: Condiciones luminarias **(entrada)**\n",
    "* Weather_conditions: Condiciones metereológicas **(entrada)**\n",
    "* Type_of_collision: Tipo de colisión **(entrada)**\n",
    "* Vehicle_movement: Movimiento del vehiculo **(entrada)**\n",
    "* Pedestrian_movement: Movimiento de los peatones \n",
    "* Cause_of_accident: Causa del accidente **(entrada)**        \n",
    "* Accident_severity: Gravedad del accidente **(salida)**\n",
    "\n",
    "\n",
    "La variable de salida **\"Accident_severity\"** puede tomar los valores **0=Fatal injury, 1=Serious injury, 2=Slight injury**\n",
    "\n",
    "Las variables **\"Educational_level\"**, **\"Vehicle_driver_relation\"**, **\"Pedestrian_movement\"** no serán usadas ya que para una correcta interpretación de las mismas se hace necesario conocer el contexto socio-ecónomico de la sociedad estudiada.\n",
    "___\n"
   ]
  },
  {
   "cell_type": "code",
   "execution_count": 2,
   "id": "5a70408a",
   "metadata": {},
   "outputs": [],
   "source": [
    "import pandas\n",
    "import numpy"
   ]
  },
  {
   "cell_type": "code",
   "execution_count": 3,
   "id": "41932767",
   "metadata": {},
   "outputs": [],
   "source": [
    "accidentes = pandas.read_csv('dataset.csv')\n",
    "\n",
    "columnas={'Age_band_of_driver':'age', 'Sex_of_driver':'sex', 'Driving_experience':'exp', 'Lanes_or_Medians':'medians',\n",
    "          'Types_of_Junction': 'junction', 'Road_surface_type':'surface', 'Light_conditions': 'light',\n",
    "          'Weather_conditions': 'weather', 'Type_of_collision':'collision', 'Vehicle_movement':'car_movement',\n",
    "          'Cause_of_accident': 'acc_cause', 'Accident_severity': 'severity'\n",
    "         }\n",
    "\n",
    "accidentes.rename(columns=columnas, inplace=True)\n",
    "\n",
    "del accidentes['Educational_level']\n",
    "del accidentes['Vehicle_driver_relation']\n",
    "del accidentes['Pedestrian_movement']\n",
    "accidentes.head()\n",
    "\n",
    "\n",
    "accidentes.to_csv('accidentes.csv', index=False)"
   ]
  },
  {
   "cell_type": "markdown",
   "id": "af3235db",
   "metadata": {},
   "source": [
    "Para poder estudiar las variables primero es preciso codificar las categorias de todas las variables de entrada."
   ]
  },
  {
   "cell_type": "code",
   "execution_count": null,
   "id": "ab424a20",
   "metadata": {},
   "outputs": [],
   "source": [
    "entradas_codificadas = {'age':{'Under 18':0, '18-30':1, '31-50':2, 'Over 51':3},\n",
    "                        \n",
    "                        'sex':{'Male':0, 'Female':1}, ## OHE\n",
    "                        \n",
    "                        'exp':{'Below 1yr':0, '1-2yr':1, '2-5yr':2, '5-10yr':3, 'Above 10yr':4},\n",
    "                        \n",
    "                        'medians':{'One way':0, 'Double carriageway (median)':1,\n",
    "                                   'Two-way (divided with broken lines road marking)':2,\n",
    "                                   'Two-way (divided with solid lines road marking)':3,\n",
    "                                   'Undivided Two way':4, 'other':5}, ## OHE\n",
    "                        \n",
    "                        'junction':{'Crossing':0, 'No junction':1, 'O Shape':2,\n",
    "                                    'T Shape':3, 'X Shape':4, 'Y Shape':5, 'Other':6}, ## OHE\n",
    "                        \n",
    "                        'surface': {'Asphalt roads':0, 'Asphalt roads with some distress':1,\n",
    "                                    'Earth roads':2, 'Gravel roads':3, 'Other':4}, ## OHE\n",
    "                        \n",
    "                        'light': {'Daylight':0, 'Darkness - no lighting':1,\n",
    "                                  'Darkness - lights unlit':2, 'Darkness - lights lit':3}, ## OHE\n",
    "                        \n",
    "                        'weather': {'Cloudy':0, 'Fog or mist':1, 'Normal':2, 'Raining':3,\n",
    "                                    'Raining and Windy':4, 'Snow':5, 'Windy':6, 'Other':7}, ## OHE\n",
    "                        \n",
    "                        'collision': {'Collision with animals':0, 'Collision with pedestrians':1,\n",
    "                                      'Collision with roadside objects':2, 'Collision with roadside-parked vehicles':3,\n",
    "                                      'Fall from vehicles':4, 'Rollover':5, 'Vehicle with vehicle collision':6,\n",
    "                                      'With Train':7,'Other':8},\n",
    "                       \n",
    "                        'car_movement': {'Entering a junction':0, 'Getting off':1, 'Going straight':2,\n",
    "                                        'Moving Backward':3, 'Overtaking':4, 'Parked':5, 'Reversing':6,'Stopping':7,\n",
    "                                        'Turnover':8, 'U-Turn':9, 'Waiting to go':10, 'Other':11},\n",
    "                       \n",
    "                        'acc_cause': {'Changing lane to the left':0, 'Changing lane to the right':1,\n",
    "                                      'Driving at high speed':2, 'Driving carelessly':3,\n",
    "                                      'Driving to the left':4,'Driving under the influence of drugs':5,\n",
    "                                      'Drunk driving':6,'Getting off the vehicle improperly':7,\n",
    "                                      'Improper parking':8,'Moving Backward':9,\n",
    "                                      'No distancing':10,'No priority to pedestrian':11,\n",
    "                                      'No priority to vehicle':12,'Overloading':13,\n",
    "                                      'Overspeed':14,'Overtaking':15,'Overturning':16,\n",
    "                                      'Turnover':17, 'Other':18}}\n",
    "\n",
    "accidentes.replace(entradas_codificadas, inplace=True)\n",
    "\n",
    "# Convertimos los \"Unknown\" en nulos para que no caigan como categorias\n",
    "# accidentes.replace('Unknown', numpy.NaN, inplace=True)\n",
    "\n",
    "accidentes.head()\n",
    "\n",
    "accidentes.to_csv('accidentes.csv')"
   ]
  },
  {
   "cell_type": "markdown",
   "id": "6830d7ac",
   "metadata": {},
   "source": [
    "## 2. Análisis detallado de un conjunto de variables\n",
    "\n",
    "¿Qué tan grave fueron los accidentes?"
   ]
  },
  {
   "cell_type": "code",
   "execution_count": null,
   "id": "68d4dca1",
   "metadata": {},
   "outputs": [],
   "source": [
    "accidentes.severity.value_counts()"
   ]
  },
  {
   "cell_type": "code",
   "execution_count": null,
   "id": "85fb15ce",
   "metadata": {},
   "outputs": [],
   "source": [
    "import matplotlib.pyplot as plt\n",
    "import plotly.express as px"
   ]
  },
  {
   "cell_type": "code",
   "execution_count": null,
   "id": "c425ec9f",
   "metadata": {},
   "outputs": [],
   "source": [
    "accidentes.severity.value_counts().plot.pie(autopct='%1.0f%%', figsize=(8,8))"
   ]
  },
  {
   "cell_type": "markdown",
   "id": "32e0628c",
   "metadata": {},
   "source": [
    "Se observa claramente que la gravedad de la gran mayoria de los accidentes son de lesiones leves esto parece indicar que el sistema vehicular en situaciones límites funciona bien. Le sigue una porcion del 14% de accidentes con heridas graves y un pequeña cantidad de 158 accidentes fatales.\n",
    "Al ser la distribución tan despareja, el modelo al ser entrenado, puede llegar a darle mas a peso a la salida dominante"
   ]
  },
  {
   "cell_type": "code",
   "execution_count": null,
   "id": "3e6310ec",
   "metadata": {},
   "outputs": [],
   "source": [
    "# Distribucion de la edad de los conductores\n",
    "px.histogram(accidentes, x=\"age\", color=\"age\")"
   ]
  },
  {
   "cell_type": "code",
   "execution_count": null,
   "id": "4ec012db",
   "metadata": {},
   "outputs": [],
   "source": [
    "# Edad del conductor contra gravedad del accidente\n",
    "px.histogram(accidentes, x=\"severity\", color='age', barmode='group')"
   ]
  },
  {
   "cell_type": "markdown",
   "id": "3f64a9a0",
   "metadata": {},
   "source": [
    "Se observa que la distribucion de la edad de los conductores accidentados se aproxima a una distribucion normal y la mayoria  ronda entre los 18-30 años y 31-50 años, es decir adolescentes y adultos. La mínima cantidad de conductores accidentados son menores de edad. "
   ]
  },
  {
   "cell_type": "code",
   "execution_count": null,
   "id": "5d451453",
   "metadata": {},
   "outputs": [],
   "source": [
    "# Distribucion de la experiencia del conductor\n",
    "accidentes_l = accidentes.replace([\"Unknown\",\"unknown\"], numpy.NaN)\n",
    "accidentes_l.exp.value_counts().plot.pie(autopct='%1.0f%%', figsize=(8,8))"
   ]
  },
  {
   "cell_type": "markdown",
   "id": "2dd0bdec",
   "metadata": {},
   "source": [
    "El gráfico muestra que el 72% de los accidentados tiene minimamente 2 años de experiencia en conducir y el resto hasta menos de un año de experiencia y solo un 1% sin licencia. Este 72% experimentado puede llegar a explicar la leve gravedad en la mayoria de accidentes"
   ]
  },
  {
   "cell_type": "code",
   "execution_count": null,
   "id": "1d861e0b",
   "metadata": {},
   "outputs": [],
   "source": [
    "f,ax=plt.subplots(1,3,figsize=(16,6))\n",
    "\n",
    "ax[0].set_title('experiencia por fatal')\n",
    "accidentes_l[accidentes_l.severity == 0].exp.value_counts().plot.pie(ax=ax[0], autopct='%1.0f%%')\n",
    "ax[1].set_title('experiencia por grave')\n",
    "accidentes_l[accidentes_l.severity == 1].exp.value_counts().plot.pie(ax=ax[1], autopct='%1.0f%%')\n",
    "ax[2].set_title('experiencia por leve')\n",
    "accidentes_l[accidentes_l.severity == 2].exp.value_counts().plot.pie(ax=ax[2], autopct='%1.0f%%')"
   ]
  },
  {
   "cell_type": "markdown",
   "id": "1dd4e096",
   "metadata": {},
   "source": [
    "Contra la hipótesis antes mencionada al parecer en los accidentes fatales participan una pequeña porcion mas conductores experimentados de entre 2,5 y 10 años. Es interesante observar que los conductores menos experimentados por debajo del año de experiencia participan casi un 10% menos en accidentes fatales que en graves y leves, esto puede indicar que conducen mas cuidadosamente. "
   ]
  },
  {
   "cell_type": "code",
   "execution_count": null,
   "id": "30ab0ab0",
   "metadata": {},
   "outputs": [],
   "source": [
    "#Distribucion del clima en los momentos del accidente\n",
    "accidentes_l.weather.value_counts().plot.pie(autopct='%1.0f%%', figsize=(8,8))"
   ]
  },
  {
   "cell_type": "code",
   "execution_count": null,
   "id": "06520857",
   "metadata": {},
   "outputs": [],
   "source": [
    "# Clima del momento del accidente contra gravedad del accidente\n",
    "f,ax=plt.subplots(1,3,figsize=(16,6))\n",
    "\n",
    "ax[0].set_title('clima en fatales')\n",
    "accidentes_l[accidentes_l.severity == 0].weather.value_counts().plot.pie(ax=ax[0], autopct='%1.0f%%')\n",
    "ax[1].set_title('clima en graves')\n",
    "accidentes_l[accidentes_l.severity == 1].weather.value_counts().plot.pie(ax=ax[1], autopct='%1.0f%%')\n",
    "ax[2].set_title('clima en leves')\n",
    "accidentes_l[accidentes_l.severity == 2].weather.value_counts().plot.pie(ax=ax[2], autopct='%1.0f%%')"
   ]
  },
  {
   "cell_type": "markdown",
   "id": "d0714b5a",
   "metadata": {},
   "source": [
    "Se da cuenta de que la gran mayoria de los dias de accidente son normales osea soleados porque la distribucion es dispareja claramente. Es muy interesante y lógico observar que se dan mas dias lluviosos en accidentes fatales que en el resto de accidentes incluso por sobre dias con neblina, viento o nieve. A pesar de esta situación, el tercer grafico parece indicar que cuando los dias no son soleados se dan mas accidentes, pero leves. Esto indica que los conductores transitan mas cuidadosamente en dias complicados."
   ]
  },
  {
   "cell_type": "code",
   "execution_count": null,
   "id": "563da14d",
   "metadata": {},
   "outputs": [],
   "source": [
    "# Distribucion del tipo de colisión en los accidentes\n",
    "px.histogram(accidentes, x=\"collision\", color=\"collision\")"
   ]
  },
  {
   "cell_type": "code",
   "execution_count": null,
   "id": "a7f51408",
   "metadata": {},
   "outputs": [],
   "source": [
    "# Tipo de colisión contra gravedad del accidente\n",
    "f,ax=plt.subplots(1,3,figsize=(16,6))\n",
    "\n",
    "ax[0].set_title('colision en fatales')\n",
    "accidentes_l[accidentes_l.severity == 0].collision.value_counts().plot.pie(ax=ax[0], autopct='%1.0f%%')\n",
    "ax[1].set_title('colision en graves')\n",
    "accidentes_l[accidentes_l.severity == 1].collision.value_counts().plot.pie(ax=ax[1], autopct='%1.0f%%')\n",
    "ax[2].set_title('colision en leves')\n",
    "accidentes_l[accidentes_l.severity == 2].collision.value_counts().plot.pie(ax=ax[2], autopct='%1.0f%%')"
   ]
  },
  {
   "cell_type": "markdown",
   "id": "4b5db2cb",
   "metadata": {},
   "source": [
    "La distribucion indica que la gran mayoria de colisiones son vehiculos contra otros vehiculos le sigue en mucho menor proporcion vehiculos contra objetos en el camino, luego colisiones contra peatones, colisiones con vuelcos y en menor cantidad contra animales. Los numeros indican que la difencia entre accidentes graves y leves contra fatales pasa por la colision contra peatones y es coherente. Se ve tambien que en accidentes fatales no se dan colisiones contra otros vehiculos estacionados o caidas de vehiculos u otros tipos de colisiones mientras en los otros accidentes si."
   ]
  },
  {
   "cell_type": "code",
   "execution_count": null,
   "id": "8c1d3720",
   "metadata": {},
   "outputs": [],
   "source": [
    "# Distribucion de causas de accidentes\n",
    "px.histogram(accidentes, x=\"acc_cause\", color=\"acc_cause\")"
   ]
  },
  {
   "cell_type": "code",
   "execution_count": null,
   "id": "6e0cf790",
   "metadata": {},
   "outputs": [],
   "source": [
    "# Causas de accidentes contra gravedad\n",
    "px.histogram(accidentes, x=\"acc_cause\", color=\"severity\", barmode=\"group\")"
   ]
  },
  {
   "cell_type": "markdown",
   "id": "869ab6a2",
   "metadata": {},
   "source": [
    "A primera vista aqui se observa una mayor variabilidad en las relaciones entre las variables que los anteriores casos.\n",
    "La mayor causa de accidentes es por el poco distanciamiento entre vehiculos, le siguen cambiar de carril a la derecha,\n",
    "cambiar de carril a la izquierda, conducir descuidademente, no darle prioridad a otros vehiculos, ir en reversa y\n",
    "no darle prioridad a los peatones. La mismas distribucion aparece en la relacion con la gravedad de los accidentes"
   ]
  },
  {
   "cell_type": "code",
   "execution_count": null,
   "id": "4898ab64",
   "metadata": {},
   "outputs": [],
   "source": [
    "f,ax=plt.subplots(1,3,figsize=(16,6))\n",
    "\n",
    "ax[0].set_title('causas en fatales')\n",
    "accidentes_l[accidentes_l.severity == 0].acc_cause.value_counts().plot.pie(ax=ax[0], autopct='%1.0f%%')\n",
    "ax[1].set_title('causas en graves')\n",
    "accidentes_l[accidentes_l.severity == 1].acc_cause.value_counts().plot.pie(ax=ax[1], autopct='%1.0f%%')\n",
    "ax[2].set_title('causas en leves')\n",
    "accidentes_l[accidentes_l.severity == 2].acc_cause.value_counts().plot.pie(ax=ax[2], autopct='%1.0f%%')"
   ]
  },
  {
   "cell_type": "markdown",
   "id": "2ea484e3",
   "metadata": {},
   "source": [
    "La distribución sigue siendo igual pero es muy interesante observar las distintas causas para cada tipo de accidente.\n",
    "Por ejemplo las causas mayore en fatales (en orden) son retroceder, cambiar de carril a la derecha, conducir descuidademente, \n",
    "mantenerse sin distancia, cambiar al carril izquierdo. Mientras que en leves las causas mayoritarias son conducir\n",
    "sin distanciamiento, cambiar al carril derecho, cambiar al carril izquierdo, conducir sin cuidado,  y no darle prioridad \n",
    "a otros vehiculos."
   ]
  },
  {
   "cell_type": "code",
   "execution_count": null,
   "id": "2a6aa516",
   "metadata": {},
   "outputs": [],
   "source": [
    "import seaborn as sns"
   ]
  },
  {
   "cell_type": "code",
   "execution_count": null,
   "id": "cf5ede17",
   "metadata": {},
   "outputs": [],
   "source": [
    "sns.heatmap(accidentes_l.corr(),annot=True,cmap='RdYlGn',linewidths=0.2)\n",
    "fig=plt.gcf()\n",
    "fig.set_size_inches(10,8)\n",
    "plt.show()"
   ]
  },
  {
   "cell_type": "markdown",
   "id": "416db89a",
   "metadata": {},
   "source": [
    "Se observa que no existe una correlacion muy fuerte entre las entradas y la salida. Esto puede suceder debido \n",
    "a que quizas las entradas seleccionadas no son las que mas causalidad tiene con la severidad de un accidente\n",
    "sin embargo notamos (como es de esperar) una correlacion que destaca entre las entradas \"light\" y \"weather\"\n",
    "con la gravedad del accidente. Ya se notó cuando se analizó el clima ahora se comprueba contra luminosidad."
   ]
  },
  {
   "cell_type": "code",
   "execution_count": null,
   "id": "16f99fc2",
   "metadata": {},
   "outputs": [],
   "source": [
    "# Luminosidad contra gravedad del accidente\n",
    "f,ax=plt.subplots(1,3,figsize=(16,6))\n",
    "\n",
    "ax[0].set_title('luminosidad en fatales')\n",
    "accidentes_l[accidentes_l.severity == 0].light.value_counts().plot.pie(ax=ax[0], autopct='%1.0f%%')\n",
    "ax[1].set_title('luminosidad en graves')\n",
    "accidentes_l[accidentes_l.severity == 1].light.value_counts().plot.pie(ax=ax[1], autopct='%1.0f%%')\n",
    "ax[2].set_title('luminosidad en leves')\n",
    "accidentes_l[accidentes_l.severity == 2].light.value_counts().plot.pie(ax=ax[2], autopct='%1.0f%%')"
   ]
  },
  {
   "cell_type": "code",
   "execution_count": null,
   "id": "66d642e4",
   "metadata": {},
   "outputs": [],
   "source": [
    "# Luminosidad contra gravedad del accidente\n",
    "f,ax=plt.subplots(1,3,figsize=(16,6))\n",
    "\n",
    "ax[0].set_title('clima contra luz de dia')\n",
    "accidentes_l[accidentes_l.light == 0].weather.value_counts().plot.pie(ax=ax[0], autopct='%1.0f%%')\n",
    "ax[1].set_title('clima contra noche con luces')\n",
    "accidentes_l[accidentes_l.light == 1].weather.value_counts().plot.pie(ax=ax[1], autopct='%1.0f%%')\n",
    "ax[2].set_title('clima contra noche sin luces')\n",
    "accidentes_l[accidentes_l.light == 2].weather.value_counts().plot.pie(ax=ax[2], autopct='%1.0f%%')"
   ]
  },
  {
   "cell_type": "markdown",
   "id": "8dda3c48",
   "metadata": {},
   "source": [
    "## Conclusión\n",
    "\n",
    "Se llegó a la conclusion que la luminosidad y el clima al momento del accidente son lo que mas influyen en la gravedad del mismo. Los gráficos demuestran que en accidente graves y leves hay mayormente luz del dia en un 70-70% de los casos y es noche un 27-26 de los casos. En cambio, los accidentes fatales se dan de noche un poco menos del doble de veces que en los leves y el resto en oscuridad absoluta sin luces. Esto último habla de que las carreteras estan muy iluminadas. Se explica una causalidad bastante parecida a la comentada respecto al clima la momento del accidente, pero en este caso mas acentuada. Por ultimo se observa que cuando es de noche y hay un clima que no es normal como lluvia, viento, nieve se registran mas accidentes que si el clima es normal."
   ]
  },
  {
   "cell_type": "code",
   "execution_count": null,
   "id": "6c91edc1",
   "metadata": {},
   "outputs": [],
   "source": []
  },
  {
   "cell_type": "code",
   "execution_count": null,
   "id": "188a0ea2",
   "metadata": {},
   "outputs": [],
   "source": []
  }
 ],
 "metadata": {
  "kernelspec": {
   "display_name": "Python 3 (ipykernel)",
   "language": "python",
   "name": "python3"
  },
  "language_info": {
   "codemirror_mode": {
    "name": "ipython",
    "version": 3
   },
   "file_extension": ".py",
   "mimetype": "text/x-python",
   "name": "python",
   "nbconvert_exporter": "python",
   "pygments_lexer": "ipython3",
   "version": "3.9.6"
  }
 },
 "nbformat": 4,
 "nbformat_minor": 5
}
