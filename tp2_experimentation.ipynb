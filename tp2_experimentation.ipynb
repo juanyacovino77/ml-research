{
 "cells": [
  {
   "cell_type": "markdown",
   "id": "74451b93",
   "metadata": {},
   "source": [
    "# Trabajo Práctico 2: Entrenamiento y evaluación de modelos"
   ]
  },
  {
   "cell_type": "markdown",
   "id": "06b322f3",
   "metadata": {},
   "source": [
    "### Preprocesamiento\n",
    "\n",
    "Problemas a resolver en el preprocesamiento de los datos:\n",
    "* Informacion desconocida (unknown, Unknown, NaN)\n",
    "* Entradas categóricas nominales y ordinales"
   ]
  },
  {
   "cell_type": "code",
   "execution_count": null,
   "id": "596440aa",
   "metadata": {},
   "outputs": [],
   "source": [
    "import pandas\n",
    "import numpy\n",
    "import sklearn\n",
    "import warnings\n",
    "from sklearn_pandas import DataFrameMapper\n",
    "from sklearn.preprocessing import OneHotEncoder, OrdinalEncoder\n",
    "from sklearn.impute import SimpleImputer\n",
    "from feature_engine.imputation import CategoricalImputer\n",
    "from sklearn.model_selection import train_test_split\n",
    "\n",
    "\n",
    "warnings.filterwarnings('ignore')"
   ]
  },
  {
   "cell_type": "code",
   "execution_count": null,
   "id": "a7c91da3",
   "metadata": {},
   "outputs": [],
   "source": [
    "accidentes = pandas.read_csv('accidentes.csv')\n",
    "accidentes.head()"
   ]
  },
  {
   "cell_type": "code",
   "execution_count": null,
   "id": "1f040ee2",
   "metadata": {},
   "outputs": [],
   "source": [
    "## Distribución de nulos\n",
    "accidentes.replace([\"Unknown\",\"unknown\"], numpy.NaN, inplace=True)\n",
    "accidentes.isnull().sum()"
   ]
  },
  {
   "cell_type": "code",
   "execution_count": null,
   "id": "36c37b7d",
   "metadata": {},
   "outputs": [],
   "source": [
    "## Las entradas que tengan menos de 500 nulos se ignorarán ya que se tiene suficientes datos \n",
    "## menos sexo que es facil de inputarle valor.\n",
    "\n",
    "accidentes.dropna(subset=\n",
    "        ['medians',\n",
    "         'surface',\n",
    "         'weather',\n",
    "         'collision',\n",
    "         'car_movement',\n",
    "         'acc_cause'],\n",
    "        inplace=True)\n",
    "\n",
    "accidentes.isnull().sum()"
   ]
  },
  {
   "cell_type": "code",
   "execution_count": null,
   "id": "26e7902d",
   "metadata": {},
   "outputs": [],
   "source": [
    "# División del conjunto de datos: 60% train, 20% test, 20% validation\n",
    "\n",
    "train, not_train = train_test_split(accidentes, test_size=0.4, random_state=42)\n",
    "validation, test = train_test_split(not_train, test_size=0.5, random_state=42)\n",
    "\n",
    "train.shape, validation.shape, test.shape"
   ]
  },
  {
   "cell_type": "code",
   "execution_count": null,
   "id": "715421da",
   "metadata": {},
   "outputs": [],
   "source": [
    "## categorias ordinales -> OrdinalEncoder\n",
    "## categorias nominales -> OneHotEncoder, Vectores, BinaryEncoder, HashEncoder\n",
    "\n",
    "## one hot enconder y rellenar los nulos con sklearn\n",
    "\n",
    "age_encoder = OrdinalEncoder()\n",
    "sex_encoder = OrdinalEncoder()\n",
    "\n",
    "\n",
    "mapeador1 = DataFrameMapper( ## mejorar imputers, iterative imputer, knn imputer\n",
    "            [\n",
    "                (['age'],[CategoricalImputer(imputation_method='frequent'), age_encoder]),\n",
    "                (['sex'],[CategoricalImputer(imputation_method='frequent'), sex_encoder]),\n",
    "                (['exp'],[CategoricalImputer(imputation_method='frequent'), OneHotEncoder()]),\n",
    "                (['medians'],[OneHotEncoder()]),\n",
    "                (['junction'],[CategoricalImputer(imputation_method='frequent'), OneHotEncoder()]),\n",
    "                (['surface'],[OneHotEncoder()]),\n",
    "                (['light'],[OneHotEncoder()]),\n",
    "                (['weather'],[OneHotEncoder()]),\n",
    "                (['collision'],[OneHotEncoder()]),\n",
    "                (['car_movement'],[OneHotEncoder()]),\n",
    "                (['acc_cause'],[OneHotEncoder()]),\n",
    "            ])\n",
    "\n",
    "mapeador1.fit(train)\n",
    "\n",
    "muestra = train.sample(1)\n",
    "\n",
    "mapeador1.transform(muestra)"
   ]
  },
  {
   "cell_type": "code",
   "execution_count": null,
   "id": "92c41291",
   "metadata": {},
   "outputs": [],
   "source": [
    "mapeador1.transformed_names_"
   ]
  },
  {
   "cell_type": "code",
   "execution_count": null,
   "id": "8bf98a46",
   "metadata": {},
   "outputs": [],
   "source": [
    "## Cuales son las categorias de ordinales?\n",
    "\n",
    "age_encoder.categories_ ## ['18-30': 0, '31-50': 1, 'Over 51': 2, 'Under 18': 3]"
   ]
  },
  {
   "cell_type": "code",
   "execution_count": null,
   "id": "efff45d1",
   "metadata": {
    "scrolled": true
   },
   "outputs": [],
   "source": [
    "sex_encoder.categories_ ## ['Female' : 0, 'Male' : 1]"
   ]
  },
  {
   "cell_type": "markdown",
   "id": "b79ad90b",
   "metadata": {},
   "source": [
    "# K vecinos más cercanos"
   ]
  },
  {
   "cell_type": "code",
   "execution_count": null,
   "id": "6accbc76",
   "metadata": {},
   "outputs": [],
   "source": [
    "from sklearn.neighbors import KNeighborsClassifier\n",
    "from sklearn.pipeline import Pipeline\n",
    "from sklearn import metrics"
   ]
  },
  {
   "cell_type": "code",
   "execution_count": null,
   "id": "413a7886",
   "metadata": {},
   "outputs": [],
   "source": [
    "K = 3 ## hiperparámetro a experimentar\n",
    "\n",
    "knn = KNeighborsClassifier(n_neighbors=K)\n",
    "\n",
    "tuberia_knn = Pipeline([\n",
    "    ('mapper', mapeador1),\n",
    "    ('classifier', knn),\n",
    "])\n",
    "\n",
    "tuberia_knn.fit(train, train.severity)\n",
    "prediccion_knn = tuberia_knn.predict(validation)\n",
    "\n",
    "prediccion_knn\n",
    "\n",
    "df = pandas.DataFrame(prediccion_knn, columns=['severity'])\n",
    "df.groupby('severity').aggregate({'severity':'count'})"
   ]
  },
  {
   "cell_type": "code",
   "execution_count": null,
   "id": "bdfc10fc",
   "metadata": {},
   "outputs": [],
   "source": [
    "print(metrics.classification_report(validation.severity, prediccion_knn, target_names=['fatal', 'grave', 'leve']))"
   ]
  },
  {
   "cell_type": "markdown",
   "id": "59c2c76e",
   "metadata": {},
   "source": [
    "# Árboles de decisión"
   ]
  },
  {
   "cell_type": "code",
   "execution_count": null,
   "id": "0b47e49b",
   "metadata": {},
   "outputs": [],
   "source": [
    "from sklearn import tree"
   ]
  },
  {
   "cell_type": "code",
   "execution_count": null,
   "id": "0b246f7f",
   "metadata": {},
   "outputs": [],
   "source": [
    "arbol = tree.DecisionTreeClassifier(max_depth=50) ## Ver hiperparametros\n",
    "\n",
    "tuberia_arbol = Pipeline([\n",
    "    ('mapper', mapeador1),\n",
    "    ('classifier', arbol),\n",
    "])\n",
    "\n",
    "tuberia_arbol.fit(train, train.severity)\n",
    "prediccion_arbol = tuberia_arbol.predict(validation)\n",
    "\n",
    "prediccion_arbol\n",
    "\n",
    "df_arbol = pandas.DataFrame(prediccion_arbol, columns=['severity'])\n",
    "df_arbol.groupby('severity').aggregate({'severity':'count'})\n"
   ]
  },
  {
   "cell_type": "markdown",
   "id": "7b71f922",
   "metadata": {},
   "source": [
    "# Árboles potenciados por gradiente"
   ]
  },
  {
   "cell_type": "code",
   "execution_count": null,
   "id": "c7ceb116",
   "metadata": {},
   "outputs": [],
   "source": [
    "from sklearn.ensemble import GradientBoostingClassifier"
   ]
  },
  {
   "cell_type": "code",
   "execution_count": null,
   "id": "cbedb57d",
   "metadata": {},
   "outputs": [],
   "source": [
    "boost_model = GradientBoostingClassifier()\n",
    "\n",
    "boo_model = Pipeline([\n",
    "    ('mapper', mapeador1),\n",
    "    ('classifier', boost_model),\n",
    "])\n",
    "\n",
    "boo_model.fit(train, train.severity)\n",
    "prediccion_boo = boo_model.predict(validation)\n",
    "\n",
    "prediccion_boo\n",
    "\n",
    "df_arbol = pandas.DataFrame(prediccion_boo, columns=['severity'])\n",
    "df_arbol.groupby('severity').aggregate({'severity':'count'})"
   ]
  },
  {
   "cell_type": "markdown",
   "id": "98147cf4",
   "metadata": {},
   "source": [
    "# Métrica"
   ]
  },
  {
   "cell_type": "markdown",
   "id": "91a36716",
   "metadata": {},
   "source": [
    "El sentido de utilizar un clasificador para los accidentes de tráfico es tratar de preever accidentes según su gravedad. Por lo tanto, la métrica **\"Acuracy\"** no interesa ya que ésta es indiferente a la gravedad del accidente. Más bien interesa la métrica **\"Recall\"** para que no se escape ningún caso de las clases, sobre todo si es fatal. No interesa tanto la métrica **\"Precision\"** ya que no es tan grave definir como fatal un accidente mientras no lo era.\n",
    "\n",
    "\n",
    "A continuación evaluaremos la métrica seleccionada con los tres modelos seleccionados sin mejora de hiperparametros, ni ingenieria de entradas"
   ]
  },
  {
   "cell_type": "code",
   "execution_count": null,
   "id": "729b473c",
   "metadata": {},
   "outputs": [],
   "source": [
    "print(metrics.classification_report(validation.severity, prediccion_knn, target_names=['fatal', 'grave', 'leve']))"
   ]
  },
  {
   "cell_type": "code",
   "execution_count": null,
   "id": "661dbb83",
   "metadata": {},
   "outputs": [],
   "source": [
    "print(metrics.classification_report(validation.severity, prediccion_arbol, target_names=['fatal', 'grave', 'leve']))"
   ]
  },
  {
   "cell_type": "code",
   "execution_count": null,
   "id": "8352600e",
   "metadata": {},
   "outputs": [],
   "source": [
    "print(metrics.classification_report(validation.severity, prediccion_boo, target_names=['fatal', 'grave', 'leve']))"
   ]
  },
  {
   "cell_type": "markdown",
   "id": "15412ec3",
   "metadata": {},
   "source": [
    "# Ingeniería de variables de entrada"
   ]
  },
  {
   "cell_type": "markdown",
   "id": "0b10506e",
   "metadata": {},
   "source": [
    "# Evaluación de modelos"
   ]
  },
  {
   "cell_type": "markdown",
   "id": "dbd4d8dc",
   "metadata": {},
   "source": [
    "# Curva de aprendizaje"
   ]
  },
  {
   "cell_type": "code",
   "execution_count": null,
   "id": "7763eb87",
   "metadata": {},
   "outputs": [],
   "source": []
  }
 ],
 "metadata": {
  "kernelspec": {
   "display_name": "Python 3 (ipykernel)",
   "language": "python",
   "name": "python3"
  },
  "language_info": {
   "codemirror_mode": {
    "name": "ipython",
    "version": 3
   },
   "file_extension": ".py",
   "mimetype": "text/x-python",
   "name": "python",
   "nbconvert_exporter": "python",
   "pygments_lexer": "ipython3",
   "version": "3.9.6"
  }
 },
 "nbformat": 4,
 "nbformat_minor": 5
}
