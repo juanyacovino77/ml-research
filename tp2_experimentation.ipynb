{
 "cells": [
  {
   "cell_type": "markdown",
   "id": "74451b93",
   "metadata": {},
   "source": [
    "# Trabajo Práctico 2: Entrenamiento y evaluación de modelos"
   ]
  },
  {
   "cell_type": "markdown",
   "id": "06b322f3",
   "metadata": {},
   "source": [
    "## Preprocesamiento\n",
    "\n",
    "Problemas a resolver en el preprocesamiento de los datos:\n",
    "* Informacion desconocida (unknown, Unknown, NaN)\n",
    "* Entradas categóricas nominales y ordinales"
   ]
  },
  {
   "cell_type": "markdown",
   "id": "7bfeeca0",
   "metadata": {},
   "source": [
    "### Librerias utilizadas"
   ]
  },
  {
   "cell_type": "code",
   "execution_count": null,
   "id": "596440aa",
   "metadata": {},
   "outputs": [],
   "source": [
    "import pandas\n",
    "import numpy\n",
    "import sklearn\n",
    "import warnings\n",
    "import matplotlib.pyplot as plt\n",
    "from sklearn_pandas import DataFrameMapper\n",
    "from sklearn.preprocessing import OneHotEncoder, OrdinalEncoder\n",
    "from feature_engine.imputation import CategoricalImputer\n",
    "from sklearn.model_selection import train_test_split\n",
    "from sklearn.neighbors import KNeighborsClassifier\n",
    "from sklearn.pipeline import Pipeline\n",
    "from sklearn import metrics\n",
    "from category_encoders import BinaryEncoder\n",
    "from sklearn.tree import DecisionTreeClassifier\n",
    "from sklearn.ensemble import GradientBoostingClassifier\n",
    "import plotly.offline as pyo\n",
    "pyo.init_notebook_mode()\n",
    "from sklearn.metrics import recall_score\n",
    "import plotly.graph_objects as go\n",
    "from sklearn.model_selection import learning_curve\n",
    "from sklearn.model_selection import StratifiedKFold\n",
    "from yellowbrick.model_selection import LearningCurve\n",
    "from collections import defaultdict\n",
    "import seaborn as sns\n",
    "\n",
    "\n",
    "\n",
    "warnings.filterwarnings('ignore')"
   ]
  },
  {
   "cell_type": "code",
   "execution_count": null,
   "id": "a7c91da3",
   "metadata": {},
   "outputs": [],
   "source": [
    "accidentes = pandas.read_csv('accidentes.csv')\n",
    "accidentes.head()"
   ]
  },
  {
   "cell_type": "code",
   "execution_count": null,
   "id": "1f040ee2",
   "metadata": {},
   "outputs": [],
   "source": [
    "## Distribución de nulos\n",
    "accidentes.replace([\"Unknown\",\"unknown\"], numpy.NaN, inplace=True)\n",
    "accidentes.isnull().sum()"
   ]
  },
  {
   "cell_type": "markdown",
   "id": "a0ebf4dd",
   "metadata": {},
   "source": [
    "Las entradas que tengan menos de 500 nulos se ignorarán ya que se tiene suficientes datos menos sexo que es facil de inputarle valor."
   ]
  },
  {
   "cell_type": "code",
   "execution_count": null,
   "id": "36c37b7d",
   "metadata": {},
   "outputs": [],
   "source": [
    "accidentes.dropna(subset=\n",
    "        ['medians',\n",
    "         'surface',\n",
    "         'weather',\n",
    "         'collision',\n",
    "         'car_movement',\n",
    "         'acc_cause'],\n",
    "        inplace=True)\n",
    "\n",
    "accidentes.isnull().sum()"
   ]
  },
  {
   "cell_type": "code",
   "execution_count": null,
   "id": "26e7902d",
   "metadata": {},
   "outputs": [],
   "source": [
    "# División del conjunto de datos: 60% train, 20% test, 20% validation\n",
    "\n",
    "train, not_train = train_test_split(accidentes, test_size=0.4, random_state=42)\n",
    "validation, test = train_test_split(not_train, test_size=0.5, random_state=42)\n",
    "\n",
    "train.shape, validation.shape, test.shape"
   ]
  },
  {
   "cell_type": "markdown",
   "id": "fbc74c5a",
   "metadata": {},
   "source": [
    "Se utilizará un **DataFrameMapper** para dejar los datos \"listos\". En este caso se imputarán los valores **NaN** con un **CategoricalImputer** en donde falten, este imputer es utilizado justamente para variables categóricas. Además, las variables ordinales como **'age'** y **'sex'** se codificarán con **OrdinalEncoder** y las variables nominales con  **OneHotEncoder**"
   ]
  },
  {
   "cell_type": "code",
   "execution_count": null,
   "id": "715421da",
   "metadata": {},
   "outputs": [],
   "source": [
    "age_encoder = OrdinalEncoder()\n",
    "sex_encoder = OrdinalEncoder()\n",
    "\n",
    "mapeador1 = DataFrameMapper( \n",
    "            [\n",
    "                (['age'],[CategoricalImputer(imputation_method='frequent'), age_encoder]),\n",
    "                (['sex'],[CategoricalImputer(imputation_method='frequent'), sex_encoder]),\n",
    "                (['exp'],[CategoricalImputer(imputation_method='frequent'), OneHotEncoder()]),\n",
    "                (['medians'],[OneHotEncoder()]),\n",
    "                (['junction'],[CategoricalImputer(imputation_method='frequent'), OneHotEncoder()]),\n",
    "                (['surface'],[OneHotEncoder()]),\n",
    "                (['light'],[OneHotEncoder()]),\n",
    "                (['weather'],[OneHotEncoder()]),\n",
    "                (['collision'],[OneHotEncoder()]),\n",
    "                (['car_movement'],[OneHotEncoder()]),\n",
    "                (['acc_cause'],[OneHotEncoder()]),\n",
    "            ])\n",
    "\n",
    "mapeador1.fit(train)\n",
    "muestra = train.sample(1)\n",
    "mapeador1.transform(muestra)"
   ]
  },
  {
   "cell_type": "code",
   "execution_count": null,
   "id": "92c41291",
   "metadata": {},
   "outputs": [],
   "source": [
    "mapeador1.transformed_names_"
   ]
  },
  {
   "cell_type": "code",
   "execution_count": null,
   "id": "8bf98a46",
   "metadata": {},
   "outputs": [],
   "source": [
    "## Cuales son las categorias de ordinales?\n",
    "\n",
    "age_encoder.categories_ ## ['18-30': 0, '31-50': 1, 'Over 51': 2, 'Under 18': 3]"
   ]
  },
  {
   "cell_type": "code",
   "execution_count": null,
   "id": "efff45d1",
   "metadata": {
    "scrolled": true
   },
   "outputs": [],
   "source": [
    "sex_encoder.categories_ ## ['Female' : 0, 'Male' : 1]"
   ]
  },
  {
   "cell_type": "markdown",
   "id": "f33937e2",
   "metadata": {},
   "source": [
    "# Métrica"
   ]
  },
  {
   "cell_type": "markdown",
   "id": "000f8bfa",
   "metadata": {},
   "source": [
    "El sentido de utilizar un clasificador para la informacion que aquí se dispone de accidentes de tráfico es tratar de preever accidentes según su gravedad. Por lo tanto, la métrica **Acuracy** no interesa en estas instancias ya que ésta es indiferente a la gravedad del accidente. Más bien conviene la métrica **Recall** para que no se escape ningún caso de las clases, sobre todo si es fatal. Tampoco se observará tanto la métrica **Precision** ya que no es tan grave definir como fatal un accidente mientras no lo era.\n",
    "Se observará también **Recall** con el promedio general ponderado de las tres clases con el parámetro **average='weighted'** para tener una medida general del Recall atentiendo al desbalanceo de la información."
   ]
  },
  {
   "cell_type": "markdown",
   "id": "de96c84e",
   "metadata": {},
   "source": [
    "# Ingeniería de variables de entrada"
   ]
  },
  {
   "cell_type": "markdown",
   "id": "e9940a1d",
   "metadata": {},
   "source": [
    "Debido a la gran cantidad de dimensiones generadas a partir de aplicar el codificador **One-Hot Encoder** a las variables de entradas, seria interesante lograr una considerable reducción de dimensionalidad utilizando algun otro codificador y que no sea tan costoso aprender para los modelos. Para esto, se eligió utilizar el codificador **BinaryEncoder** que primero codifica las variables categóricas en números discretos y luego se generan cantidad de columnas como digitos necesarios para representar esas categoricas en binario."
   ]
  },
  {
   "cell_type": "code",
   "execution_count": null,
   "id": "eef8e5df",
   "metadata": {},
   "outputs": [],
   "source": [
    "age_encoder = OrdinalEncoder()\n",
    "sex_encoder = OrdinalEncoder()\n",
    "\n",
    "\n",
    "mapeador2 = DataFrameMapper( \n",
    "            [\n",
    "                (['age'],[CategoricalImputer(imputation_method='frequent'), age_encoder]),\n",
    "                (['sex'],[CategoricalImputer(imputation_method='frequent'), sex_encoder]),\n",
    "                (['exp'],[CategoricalImputer(imputation_method='frequent'), OneHotEncoder()]),\n",
    "                (['medians'],[BinaryEncoder()]),\n",
    "                (['junction'],[CategoricalImputer(imputation_method='frequent'), BinaryEncoder()]),\n",
    "                (['surface'],[BinaryEncoder()]),\n",
    "                (['light'],[BinaryEncoder()]),\n",
    "                (['weather'],[BinaryEncoder()]),\n",
    "                (['collision'],[BinaryEncoder()]),\n",
    "                (['car_movement'],[BinaryEncoder()]),\n",
    "                (['acc_cause'],[BinaryEncoder()]),\n",
    "            ])\n",
    "\n",
    "mapeador2.fit(train)\n",
    "\n",
    "muestra = train.sample(1)\n",
    "\n",
    "mapeador2.transform(muestra)"
   ]
  },
  {
   "cell_type": "code",
   "execution_count": null,
   "id": "6811516b",
   "metadata": {},
   "outputs": [],
   "source": [
    "mapeador2.transformed_names_"
   ]
  },
  {
   "cell_type": "markdown",
   "id": "14cdd5bd",
   "metadata": {},
   "source": [
    "Se observa una considerable reducción en la dimensionalidad contra el uso de **OHE**. La desventeja de aplicar esta ingenieria en las variables de entradas es que se puede perder un poco de transparencia para el cliente.\n",
    "\n",
    "\n",
    "A continuación se evalua la métrica seleccionada y la ingenieria de entrada con los tres modelos seleccionados sin mejora de hiperparametros"
   ]
  },
  {
   "cell_type": "markdown",
   "id": "e1922032",
   "metadata": {},
   "source": [
    "# K vecinos más cercanos\n",
    "A continuacion se entrena **KNN** con **train** y se evalua la métrica **Recall** sin aplicar **BinaryEncoder**"
   ]
  },
  {
   "cell_type": "code",
   "execution_count": null,
   "id": "413a7886",
   "metadata": {},
   "outputs": [],
   "source": [
    "tuberia_knn = Pipeline([\n",
    "    ('mapper', mapeador1),\n",
    "    ('classifier', KNeighborsClassifier(n_neighbors=2)),\n",
    "])\n",
    "\n",
    "tuberia_knn.fit(train, train.severity)\n",
    "prediccion_knn = tuberia_knn.predict(train)\n",
    "\n",
    "df = pandas.DataFrame(prediccion_knn, columns=['severity'])\n",
    "df.groupby('severity').aggregate({'severity':'count'})"
   ]
  },
  {
   "cell_type": "code",
   "execution_count": null,
   "id": "d27d4739",
   "metadata": {},
   "outputs": [],
   "source": [
    "print(metrics.classification_report(train.severity, prediccion_knn))"
   ]
  },
  {
   "cell_type": "markdown",
   "id": "57d577c2",
   "metadata": {},
   "source": [
    "A continuacion se entrena **KNN** con **train** y se evalua la métrica **Recall** aplicando **BinaryEncoder**"
   ]
  },
  {
   "cell_type": "code",
   "execution_count": null,
   "id": "c7a0b9d2",
   "metadata": {},
   "outputs": [],
   "source": [
    "tuberia_knn_2 = Pipeline([\n",
    "    ('mapper', mapeador2),\n",
    "    ('classifier', KNeighborsClassifier(n_neighbors=2)),\n",
    "])\n",
    "\n",
    "tuberia_knn_2.fit(train, train.severity)\n",
    "prediccion_knn_2 = tuberia_knn_2.predict(train)\n",
    "\n",
    "df_2 = pandas.DataFrame(prediccion_knn_2, columns=['severity'])\n",
    "df_2.groupby('severity').aggregate({'severity':'count'})"
   ]
  },
  {
   "cell_type": "code",
   "execution_count": null,
   "id": "a3b558ea",
   "metadata": {},
   "outputs": [],
   "source": [
    "print(metrics.classification_report(train.severity, prediccion_knn_2))"
   ]
  },
  {
   "cell_type": "markdown",
   "id": "59c2c76e",
   "metadata": {},
   "source": [
    "# Árboles de decisión"
   ]
  },
  {
   "cell_type": "markdown",
   "id": "96282dd0",
   "metadata": {},
   "source": [
    "A continuacion se entrena **Tree** con **train** y se evalua la métrica **Recall** sin aplicar **BinaryEncoder**"
   ]
  },
  {
   "cell_type": "code",
   "execution_count": null,
   "id": "0b246f7f",
   "metadata": {},
   "outputs": [],
   "source": [
    "tuberia_arbol = Pipeline([\n",
    "    ('mapper', mapeador1),\n",
    "    ('classifier', DecisionTreeClassifier(max_depth=10, class_weight='balanced')),\n",
    "])\n",
    "\n",
    "tuberia_arbol.fit(train, train.severity)\n",
    "prediccion_arbol = tuberia_arbol.predict(train)\n",
    "\n",
    "prediccion_arbol\n",
    "\n",
    "df_arbol = pandas.DataFrame(prediccion_arbol, columns=['severity'])\n",
    "df_arbol.groupby('severity').aggregate({'severity':'count'})"
   ]
  },
  {
   "cell_type": "code",
   "execution_count": null,
   "id": "3580ae18",
   "metadata": {},
   "outputs": [],
   "source": [
    "print(metrics.classification_report(train.severity, prediccion_arbol))"
   ]
  },
  {
   "cell_type": "markdown",
   "id": "32f9d47e",
   "metadata": {},
   "source": [
    "A continuacion se entrena **Tree** con **train** y se evalua la métrica **Recall** aplicando **BinaryEncoder**"
   ]
  },
  {
   "cell_type": "code",
   "execution_count": null,
   "id": "70018d1b",
   "metadata": {},
   "outputs": [],
   "source": [
    "tuberia_arbol_2 = Pipeline([\n",
    "    ('mapper', mapeador2),\n",
    "    ('classifier', DecisionTreeClassifier(max_depth=10, class_weight='balanced')),\n",
    "])\n",
    "\n",
    "tuberia_arbol_2.fit(train, train.severity)\n",
    "prediccion_arbol_2 = tuberia_arbol_2.predict(train)\n",
    "\n",
    "df_arbol_2 = pandas.DataFrame(prediccion_arbol_2, columns=['severity'])\n",
    "df_arbol_2.groupby('severity').aggregate({'severity':'count'})"
   ]
  },
  {
   "cell_type": "code",
   "execution_count": null,
   "id": "502a4768",
   "metadata": {},
   "outputs": [],
   "source": [
    "print(metrics.classification_report(train.severity, prediccion_arbol_2))"
   ]
  },
  {
   "cell_type": "markdown",
   "id": "7b71f922",
   "metadata": {},
   "source": [
    "# Árboles potenciados por gradiente"
   ]
  },
  {
   "cell_type": "markdown",
   "id": "2f409cbe",
   "metadata": {},
   "source": [
    "A continuacion se entrena **GBOO** con **train** y se evalua la métrica **Recall** sin aplicar **BinaryEncoder**"
   ]
  },
  {
   "cell_type": "code",
   "execution_count": null,
   "id": "cbedb57d",
   "metadata": {},
   "outputs": [],
   "source": [
    "tuberia_boo = Pipeline([\n",
    "    ('mapper', mapeador1),\n",
    "    ('classifier', GradientBoostingClassifier(max_depth=10)),\n",
    "])\n",
    "\n",
    "tuberia_boo.fit(train, train.severity)\n",
    "prediccion_boo = tuberia_boo.predict(train)\n",
    "\n",
    "df_arbol = pandas.DataFrame(prediccion_boo, columns=['severity'])\n",
    "df_arbol.groupby('severity').aggregate({'severity':'count'})"
   ]
  },
  {
   "cell_type": "code",
   "execution_count": null,
   "id": "5ba120f2",
   "metadata": {},
   "outputs": [],
   "source": [
    "print(metrics.classification_report(train.severity, prediccion_boo))"
   ]
  },
  {
   "cell_type": "markdown",
   "id": "30ab0a02",
   "metadata": {},
   "source": [
    "A continuacion se entrena **GBOO** con **train** y se evalua la métrica **Recall** aplicando **BinaryEncoder**"
   ]
  },
  {
   "cell_type": "code",
   "execution_count": null,
   "id": "5a956e55",
   "metadata": {},
   "outputs": [],
   "source": [
    "tuberia_boo_2 = Pipeline([\n",
    "    ('mapper', mapeador2),\n",
    "    ('classifier', GradientBoostingClassifier(max_depth=10)),\n",
    "])\n",
    "\n",
    "tuberia_boo_2.fit(train, train.severity)\n",
    "prediccion_boo_2 = tuberia_boo_2.predict(train)\n",
    "\n",
    "df_arbol = pandas.DataFrame(prediccion_boo_2, columns=['severity'])\n",
    "df_arbol.groupby('severity').aggregate({'severity':'count'})"
   ]
  },
  {
   "cell_type": "code",
   "execution_count": null,
   "id": "19c6a1a4",
   "metadata": {},
   "outputs": [],
   "source": [
    "print(metrics.classification_report(train.severity, prediccion_boo_2))"
   ]
  },
  {
   "cell_type": "markdown",
   "id": "87d9e6d0",
   "metadata": {},
   "source": [
    "Efectivamente los modelos funcionanan mejorar aplicando ingenieria de entradas con **BinaryEncoder** a las entradas categóricas"
   ]
  },
  {
   "cell_type": "markdown",
   "id": "0b10506e",
   "metadata": {},
   "source": [
    "# Evaluación de modelos"
   ]
  },
  {
   "cell_type": "code",
   "execution_count": null,
   "id": "bcd31464",
   "metadata": {},
   "outputs": [],
   "source": [
    "## Definicion de funcion para evaluar el modelo\n",
    "def evaluate_model(model, set_names=('train', 'validation'), title='', show_cm=True):\n",
    "    if title:\n",
    "        display(title)\n",
    "        \n",
    "    final_metrics = defaultdict(list)\n",
    "    \n",
    "    if show_cm:\n",
    "        fig, axis = plt.subplots(1, len(set_names), sharey=True, figsize=(15, 3))\n",
    "    \n",
    "    for i, set_name in enumerate(set_names):\n",
    "        assert set_name in ['train', 'validation', 'test']\n",
    "        set_data = globals()[set_name]  # <- hack feo...\n",
    "\n",
    "        y = set_data.severity\n",
    "        y_pred = model.predict(set_data)\n",
    "        final_metrics['Recall'].append(metrics.recall_score(y, y_pred, average='weighted'))\n",
    "        \n",
    "        if show_cm:\n",
    "            ax = axis[i]\n",
    "            sns.heatmap(metrics.confusion_matrix(y, y_pred), ax=ax, cmap='Blues', annot=True, fmt='.0f', cbar=False)\n",
    "\n",
    "            ax.set_title(set_name)\n",
    "            ax.xaxis.set_ticklabels(['fatal', 'grave', 'leve'])\n",
    "            ax.yaxis.set_ticklabels(['fatal', 'grave', 'leve'])\n",
    "            ax.set_xlabel('Predicted class')\n",
    "            ax.set_ylabel('True class')\n",
    "\n",
    "        \n",
    "    display(pandas.DataFrame(final_metrics, index=set_names))\n",
    "    if show_cm:\n",
    "        plt.tight_layout()\n",
    "        plt.show()"
   ]
  },
  {
   "cell_type": "markdown",
   "id": "dcc2e80e",
   "metadata": {},
   "source": [
    "### Hiperparámetros a exporar con KNN\n",
    "\n",
    "* Cantidad de vecinos K\n",
    "* Medicion de distancia: euclidean, manhattan, minkowski"
   ]
  },
  {
   "cell_type": "markdown",
   "id": "21e17383",
   "metadata": {},
   "source": [
    "Se procede a buscar estocasticamente un valor de **K** óptimo teniendo en cuenta la métrica seleccionada."
   ]
  },
  {
   "cell_type": "code",
   "execution_count": null,
   "id": "3829a902",
   "metadata": {},
   "outputs": [],
   "source": [
    "k_top = 20\n",
    "results = numpy.zeros((k_top, 2))\n",
    "\n",
    "X, y = train, train.severity\n",
    "\n",
    "for i in range(1, k_top):\n",
    "    k_values_train = []\n",
    "    k_values_test = []\n",
    "    for t in range(10):\n",
    "        X_train, X_test, y_train, y_test = train_test_split(X, y, shuffle=True)\n",
    "\n",
    "        model = KNeighborsClassifier(n_neighbors=i)\n",
    "        \n",
    "        tuberia_knn_2 = Pipeline([\n",
    "            ('mapper', mapeador2),\n",
    "            ('classifier', model),\n",
    "        ])\n",
    "\n",
    "        tuberia_knn_2.fit(X_train, y_train)\n",
    "        prediccion_knn_2_train = tuberia_knn_2.predict(X_train)\n",
    "        prediccion_knn_2_test = tuberia_knn_2.predict(X_test)\n",
    "\n",
    "        k_values_train.append(metrics.recall_score(y_train, prediccion_knn_2_train, average='weighted'))\n",
    "        k_values_test.append(metrics.recall_score(y_test, prediccion_knn_2_test,average='weighted'))\n",
    "    results[i-1, 0] = numpy.mean(k_values_train)\n",
    "    results[i-1, 1] = numpy.mean(k_values_test)"
   ]
  },
  {
   "cell_type": "code",
   "execution_count": null,
   "id": "5dfca982",
   "metadata": {},
   "outputs": [],
   "source": [
    "fig = go.Figure()\n",
    "x_values = list(range(1, k_top))\n",
    "fig.add_trace(go.Scatter(x=x_values, y=results[:, 0],\n",
    "                    mode='lines',\n",
    "                    name='train'))\n",
    "fig.add_trace(go.Scatter(x=x_values, y=results[:, 1],\n",
    "                    mode='lines',\n",
    "                    name='test'))\n",
    "fig.show()"
   ]
  },
  {
   "cell_type": "markdown",
   "id": "91bd99ff",
   "metadata": {},
   "source": [
    "Se nota (como es conocido) que **KNN** es altamente inestable al principio en un rango de K=(1-8) luego se estabiliza con valores del **promedio de Recall ponderado** de hasta el 84%. De ahora en adelante se utilizará el valor 10 para **K**.\n",
    "\n",
    "A continuación se evalua **KNN** con distintas maneras de medir la distancias:"
   ]
  },
  {
   "cell_type": "code",
   "execution_count": null,
   "id": "d5f86067",
   "metadata": {},
   "outputs": [],
   "source": [
    "## Midiendo distancias euclídeas\n",
    "tuberia_knn_2 = Pipeline([\n",
    "    ('mapper', mapeador2),\n",
    "    ('classifier', KNeighborsClassifier(n_neighbors=10, weights='distance', metric='euclidean'))\n",
    "])\n",
    "\n",
    "tuberia_knn_2.fit(train, train.severity)\n",
    "prediccion_knn_2 = tuberia_knn_2.predict(train)\n",
    "    \n",
    "metrics.recall_score(train.severity, prediccion_knn_2, average='weighted')"
   ]
  },
  {
   "cell_type": "code",
   "execution_count": null,
   "id": "0839219c",
   "metadata": {},
   "outputs": [],
   "source": [
    "## Midiendo distancias manhattan\n",
    "tuberia_knn_2 = Pipeline([\n",
    "    ('mapper', mapeador2),\n",
    "    ('classifier', KNeighborsClassifier(n_neighbors=10, weights='distance', metric='manhattan'))\n",
    "])\n",
    "\n",
    "tuberia_knn_2.fit(train, train.severity)\n",
    "prediccion_knn_2 = tuberia_knn_2.predict(train)\n",
    "    \n",
    "evaluate_model(tuberia_knn_2,set_names=('train', 'validation','test') ,title='', show_cm=True )"
   ]
  },
  {
   "cell_type": "markdown",
   "id": "d7ba4ed1",
   "metadata": {},
   "source": [
    "Es notable una gran mejoría de mas de 10 puntos porcentuales en la métrica de promedio ponderado de **Recall** utilizando otras maneras de medir las distancias distintas a **minkowski** como **euclidean** o **manhatan**. El modelo efectivamente funciona mejor con estos parámetros."
   ]
  },
  {
   "cell_type": "markdown",
   "id": "e9895b07",
   "metadata": {},
   "source": [
    "### Hiperparámetros a explorar con Árboles de decisión\n",
    "* Profundidad\n",
    "* Ponderacion de las clases\n",
    "* Criterio de separación"
   ]
  },
  {
   "cell_type": "code",
   "execution_count": null,
   "id": "d4cf91ac",
   "metadata": {},
   "outputs": [],
   "source": [
    "## Máxima profundidad 5 sin balanceo de clases\n",
    "tuberia_arbol_2 = Pipeline([\n",
    "    ('mapper', mapeador2),\n",
    "    ('classifier', DecisionTreeClassifier(max_depth=5)),\n",
    "])\n",
    "\n",
    "tuberia_arbol_2.fit(train, train.severity)\n",
    "prediccion_arbol_2 = tuberia_arbol_2.predict(train)\n",
    "\n",
    "print(metrics.classification_report(train.severity, prediccion_arbol_2))"
   ]
  },
  {
   "cell_type": "code",
   "execution_count": null,
   "id": "13796923",
   "metadata": {},
   "outputs": [],
   "source": [
    "## Máxima profundidad 10 sin balanceo de clases\n",
    "tuberia_arbol_2 = Pipeline([\n",
    "    ('mapper', mapeador2),\n",
    "    ('classifier', DecisionTreeClassifier(max_depth=10)),\n",
    "])\n",
    "\n",
    "tuberia_arbol_2.fit(train, train.severity)\n",
    "prediccion_arbol_2 = tuberia_arbol_2.predict(train)\n",
    "\n",
    "print(metrics.classification_report(train.severity, prediccion_arbol_2))"
   ]
  },
  {
   "cell_type": "markdown",
   "id": "a57a5470",
   "metadata": {},
   "source": [
    "Se observa que solo clasifica bien para la clase mayoritaria, el problema de el desbalanceo de las clases es evidente"
   ]
  },
  {
   "cell_type": "code",
   "execution_count": null,
   "id": "d692f9e0",
   "metadata": {},
   "outputs": [],
   "source": [
    "## Máxima profundidad 15 con balanceo de clases\n",
    "tuberia_arbol_2 = Pipeline([\n",
    "    ('mapper', mapeador2),\n",
    "    ('classifier', DecisionTreeClassifier(max_depth=15, class_weight='balanced')),\n",
    "])\n",
    "\n",
    "tuberia_arbol_2.fit(train, train.severity)\n",
    "prediccion_arbol_2 = tuberia_arbol_2.predict(train)\n",
    "\n",
    "evaluate_model(tuberia_arbol_2,set_names=('train', 'validation','test') ,title='', show_cm=True )"
   ]
  },
  {
   "cell_type": "code",
   "execution_count": null,
   "id": "30d65d1c",
   "metadata": {},
   "outputs": [],
   "source": [
    "## Máxima profundidad 10 con balanceo de clases y entropía como criterio de división\n",
    "tuberia_arbol_2 = Pipeline([\n",
    "    ('mapper', mapeador2),\n",
    "    ('classifier', DecisionTreeClassifier(max_depth=10, class_weight='balanced', criterion='entropy'),\n",
    "])\n",
    "\n",
    "tuberia_arbol_2.fit(train, train.severity)\n",
    "prediccion_arbol_2 = tuberia_arbol_2.predict(train)\n",
    "\n",
    "print(metrics.classification_report(train.severity, prediccion_arbol_2))"
   ]
  },
  {
   "cell_type": "markdown",
   "id": "560cc63d",
   "metadata": {},
   "source": [
    "Gracias al balanceo de datos, se observa una gran mejora en la clasificaciones de clases **Fatales** que son las que mas interesan, pero tanto, que parece que sobreentrena en esos casos. El criterio **'gini'** parece ser mejor que el entrópico"
   ]
  },
  {
   "cell_type": "markdown",
   "id": "6f9c098d",
   "metadata": {},
   "source": [
    "### Hiperparámetros a explorar con Árboles de decisión potencias por gradiente\n",
    "* Profundidad\n",
    "* Cantidad minimas de instancias por separacion\n",
    "* Clasificadores"
   ]
  },
  {
   "cell_type": "code",
   "execution_count": null,
   "id": "709cea0b",
   "metadata": {},
   "outputs": [],
   "source": [
    "## Maxima profundidad de 10 y clasificadores 50\n",
    "tuberia_boo_2 = Pipeline([\n",
    "    ('mapper', mapeador2),\n",
    "    ('classifier', GradientBoostingClassifier(max_depth=10,\n",
    "                                              n_estimators=50\n",
    "                                             )),\n",
    "])\n",
    "\n",
    "tuberia_boo_2.fit(train, train.severity)\n",
    "prediccion_boo_2 = tuberia_boo_2.predict(train)\n",
    "\n",
    "print(metrics.classification_report(train.severity, prediccion_boo_2))"
   ]
  },
  {
   "cell_type": "code",
   "execution_count": null,
   "id": "b79968d2",
   "metadata": {},
   "outputs": [],
   "source": [
    "## Maxima profundidad de 10, clasificadores 50 y minima cantidad de 80 instancias para separacion\n",
    "tuberia_boo_2 = Pipeline([\n",
    "    ('mapper', mapeador2),\n",
    "    ('classifier', GradientBoostingClassifier(max_depth=10,\n",
    "                                              n_estimators=50,\n",
    "                                              min_samples_split=80,\n",
    "                                             )),\n",
    "])\n",
    "\n",
    "tuberia_boo_2.fit(train, train.severity)\n",
    "prediccion_boo_2 = tuberia_boo_2.predict(train)\n",
    "\n",
    "print(metrics.classification_report(train.severity, prediccion_boo_2))"
   ]
  },
  {
   "cell_type": "code",
   "execution_count": null,
   "id": "dd48a467",
   "metadata": {},
   "outputs": [],
   "source": [
    "## Maxima profundidad de 10, clasificadores 50 y minima cantidad de 10 instancias para separacion\n",
    "tuberia_boo_2 = Pipeline([\n",
    "    ('mapper', mapeador2),\n",
    "    ('classifier', GradientBoostingClassifier(max_depth=10,\n",
    "                                              n_estimators=50,\n",
    "                                              min_samples_split=10,\n",
    "                                             )),\n",
    "])\n",
    "\n",
    "tuberia_boo_2.fit(train, train.severity)\n",
    "prediccion_boo_2 = tuberia_boo_2.predict(train)\n",
    "\n",
    "print(metrics.classification_report(train.severity, prediccion_boo_2))"
   ]
  },
  {
   "cell_type": "markdown",
   "id": "374580c0",
   "metadata": {},
   "source": [
    "### Elección de modelo"
   ]
  },
  {
   "cell_type": "markdown",
   "id": "a2416b13",
   "metadata": {},
   "source": [
    "Lo que se observa con **arboles potenciados por gradiente** es en aparaciencia el modelo mas potente de los tres para clasificación **multiclases desbalanceadas**, pero tanto que parece **sobreentrenar**, la calidad de la clasificación cae cuando subimos el número de instancias para cada separación. Se podria utilizar este y otros parametros para controlar el sobreentrenamiento.\n",
    "Por estas razones, se decidió utilizar este modelo como el pricipal. Se procede a explotar los parámetros aún mas y controlar el sobreentrenamiento"
   ]
  },
  {
   "cell_type": "code",
   "execution_count": null,
   "id": "f13f141c",
   "metadata": {},
   "outputs": [],
   "source": [
    "## Maxima profundidad de 10, clasificadores 50 y minima cantidad de 10 instancias para separacion\n",
    "tuberia_boo_2 = Pipeline([\n",
    "    ('mapper', mapeador2),\n",
    "    ('classifier', GradientBoostingClassifier(max_depth=10,\n",
    "                                              n_estimators=50,\n",
    "                                              min_samples_split=10,\n",
    "                                             )),\n",
    "])"
   ]
  },
  {
   "cell_type": "code",
   "execution_count": null,
   "id": "db1a8da7",
   "metadata": {},
   "outputs": [],
   "source": [
    "cv = StratifiedKFold(n_splits=12)\n",
    "tamanios = np.linspace(0.3, 1.0, 10)\n",
    "\n",
    "visualizador = LearningCurve(\n",
    "    tuberia_boo_2, cv=cv, scoring='recall_weighted', train_sizes=tamanios, n_jobs=-1\n",
    ")\n",
    "\n",
    "visualizador.fit(train, train.severity) \n",
    "visualizador.show()          "
   ]
  },
  {
   "cell_type": "markdown",
   "id": "0d9f6be5",
   "metadata": {},
   "source": [
    "Con un modelo de arboles de decisión potenciados por grandes con **maxima profundidad de 10, clasificadores 50 y minima cantidad de 10 instancias para separacion** observamos un sobre-entrenamiento. A pesar de esto, el gráfico parece indicar que si continuamos entrendo contra mas KFolds el aprendizaje iría aumentando.\n",
    "\n",
    "A continuacion probamos otro modelo que minimice el sobre-entrenamiento:"
   ]
  },
  {
   "cell_type": "code",
   "execution_count": null,
   "id": "aa20200a",
   "metadata": {},
   "outputs": [],
   "source": [
    "tuberia_boo_2 = Pipeline([\n",
    "    ('mapper', mapeador2),\n",
    "    ('classifier', GradientBoostingClassifier(max_depth=8,\n",
    "                                              n_estimators=150,\n",
    "                                              min_samples_split=40,\n",
    "                                              min_samples_leaf=8\n",
    "                                             )),\n",
    "])\n",
    "\n",
    "tuberia_boo_2.fit(train, train.severity)\n",
    "prediccion_boo_2 = tuberia_boo_2.predict(train)\n",
    "\n",
    "print(metrics.classification_report(train.severity, prediccion_boo_2))"
   ]
  },
  {
   "cell_type": "code",
   "execution_count": null,
   "id": "7f0d0603",
   "metadata": {},
   "outputs": [],
   "source": [
    "evaluate_model(tuberia_boo_2,set_names=('train', 'validation','test') ,title='', show_cm=True )"
   ]
  },
  {
   "cell_type": "markdown",
   "id": "07d301cb",
   "metadata": {},
   "source": [
    "### Conclusión\n",
    "A pesar del sobreentrenamiento, de los tres modelos, el mejor indica a ser el arbol potenciado por gradiente eso se muestra con un recall promedio ponderado en test del 83%. Sin embargo, sigue siendo muy dificil clasificar correctamente las clases minoritarias, ya que estan MUY desbalanceadas y son tan pocos los casos de fatales que podrian hasta ser considerados outliers. Podrian mejorarse estas situaciones con un muy fino balanceo de arboles buscando los parametros con GridSearchCV y quizas de alguna manera no borrar tantas filas para tener mas datos."
   ]
  }
 ],
 "metadata": {
  "kernelspec": {
   "display_name": "Python 3 (ipykernel)",
   "language": "python",
   "name": "python3"
  },
  "language_info": {
   "codemirror_mode": {
    "name": "ipython",
    "version": 3
   },
   "file_extension": ".py",
   "mimetype": "text/x-python",
   "name": "python",
   "nbconvert_exporter": "python",
   "pygments_lexer": "ipython3",
   "version": "3.9.6"
  }
 },
 "nbformat": 4,
 "nbformat_minor": 5
}
